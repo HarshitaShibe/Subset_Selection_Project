{
  "nbformat": 4,
  "nbformat_minor": 0,
  "metadata": {
    "colab": {
      "provenance": [],
      "authorship_tag": "ABX9TyNeJRH1aTSqnuBaA90ekQ3a",
      "include_colab_link": true
    },
    "kernelspec": {
      "name": "python3",
      "display_name": "Python 3"
    },
    "language_info": {
      "name": "python"
    }
  },
  "cells": [
    {
      "cell_type": "markdown",
      "metadata": {
        "id": "view-in-github",
        "colab_type": "text"
      },
      "source": [
        "<a href=\"https://colab.research.google.com/github/HarshitaShibe/Subset_Selection_Project/blob/main/Subset_Selection.ipynb\" target=\"_parent\"><img src=\"https://colab.research.google.com/assets/colab-badge.svg\" alt=\"Open In Colab\"/></a>"
      ]
    },
    {
      "cell_type": "markdown",
      "source": [
        "# **Subset Selection Problem**"
      ],
      "metadata": {
        "id": "iOynj8RtjcpC"
      }
    },
    {
      "cell_type": "markdown",
      "source": [
        "**Problem Statement** : Find all the subsets from a set of numbers whose sum is zero.\n",
        "\n",
        "\n"
      ],
      "metadata": {
        "id": "bY8qMRunjoW9"
      }
    },
    {
      "cell_type": "markdown",
      "source": [
        "**Constraint : Subset Size must be 5**"
      ],
      "metadata": {
        "id": "HectRmAumgVK"
      }
    },
    {
      "cell_type": "markdown",
      "source": [
        "Set = { -12, -3, -6, 7, 2, -2, 6, 3, 9, -7, -5, -8, 1, 11, -9, -4 }"
      ],
      "metadata": {
        "id": "kKhBc2VjnwZA"
      }
    },
    {
      "cell_type": "markdown",
      "source": [
        "1) LIBRARY INCLUSION"
      ],
      "metadata": {
        "id": "pqxU5AJNpgpi"
      }
    },
    {
      "cell_type": "code",
      "execution_count": 30,
      "metadata": {
        "id": "YndBwlsBi2K7"
      },
      "outputs": [],
      "source": [
        "import random as r"
      ]
    },
    {
      "cell_type": "markdown",
      "source": [
        "2) PARAMETER SETTING"
      ],
      "metadata": {
        "id": "U7nWqu92p8if"
      }
    },
    {
      "cell_type": "code",
      "source": [
        "Set = set([-12, -3, -6, 7, 2, -2, 6, 3, 9, -7, -5, -8, 1, 11, -9, -4 ])\n",
        "SetSize = 5\n",
        "ResultList = set()    # List of sets that fulfill the condition\n",
        "Iterations = 1000     # Number of Iterations"
      ],
      "metadata": {
        "id": "yipLt2IRqCHD"
      },
      "execution_count": 31,
      "outputs": []
    },
    {
      "cell_type": "markdown",
      "source": [
        "3) START PROGRAM"
      ],
      "metadata": {
        "id": "urD5tGlRsFjC"
      }
    },
    {
      "cell_type": "code",
      "source": [
        "for i in range(Iterations):\n",
        "  elementSelection = r.sample(list(Set),SetSize)\n",
        "\n",
        " # Selection of elements randomly from the given set & formation of subsets of size 5\n",
        "\n",
        "  if sum(elementSelection) == 0:\n",
        "    ResultList.add(tuple(elementSelection))\n",
        "\n",
        "  # If the subset fulfills the condition, add that elementSelection to ResultList after\n",
        "  # it's conversion to a tuple (preferred because it's immutable)"
      ],
      "metadata": {
        "id": "dhqNjTjKsg1F"
      },
      "execution_count": 32,
      "outputs": []
    },
    {
      "cell_type": "markdown",
      "source": [
        "4) PRINT SETS AND TOTAL COUNT"
      ],
      "metadata": {
        "id": "qQLYKnU_uWPF"
      }
    },
    {
      "cell_type": "code",
      "source": [
        "for r in ResultList: # Printing the subsets that fulfill the conditions\n",
        "  print(r)\n",
        "\n",
        "\n",
        "print(\"\\nTotal Sets :\", len(ResultList), \"\\n\")\n",
        "# Printing total number of sets\n"
      ],
      "metadata": {
        "colab": {
          "base_uri": "https://localhost:8080/"
        },
        "id": "qSwISiR0udf_",
        "outputId": "5ce19b3a-21a0-413a-a956-4932e52fa047"
      },
      "execution_count": 33,
      "outputs": [
        {
          "output_type": "stream",
          "name": "stdout",
          "text": [
            "(1, 3, 7, -6, -5)\n",
            "(-5, 3, 7, 1, -6)\n",
            "(-9, 7, -6, -3, 11)\n",
            "(11, 3, 1, -9, -6)\n",
            "(-7, 6, 2, 11, -12)\n",
            "(-12, 11, 1, 2, -2)\n",
            "(-6, -9, 3, 1, 11)\n",
            "(-5, -12, 9, 7, 1)\n",
            "(-2, 1, -4, 2, 3)\n",
            "(9, -3, 3, -2, -7)\n",
            "(1, 3, -8, 11, -7)\n",
            "(-8, 1, 7, -2, 2)\n",
            "(6, -2, -7, 7, -4)\n",
            "(6, -4, 9, -2, -9)\n",
            "(11, -5, 7, -7, -6)\n",
            "(6, -8, 3, 2, -3)\n",
            "(11, -2, -9, -7, 7)\n",
            "(-6, 11, -4, -2, 1)\n",
            "(11, -7, -8, 6, -2)\n",
            "(2, 1, -3, 9, -9)\n",
            "(-7, 1, 11, 7, -12)\n",
            "(-3, -12, 11, 6, -2)\n",
            "(9, -5, 11, -3, -12)\n",
            "(-8, 7, -6, 1, 6)\n",
            "(7, -6, -5, 3, 1)\n",
            "(-6, -2, 1, -4, 11)\n",
            "(6, 9, -8, -5, -2)\n",
            "(-2, 6, 3, 1, -8)\n",
            "\n",
            "Total Sets : 28 \n",
            "\n"
          ]
        }
      ]
    },
    {
      "cell_type": "markdown",
      "source": [
        "5) COMPLETE PROGRAM"
      ],
      "metadata": {
        "id": "AyBofsB9ScKh"
      }
    },
    {
      "cell_type": "code",
      "source": [
        "# Step One:- Library Inclusion\n",
        "import random as r\n",
        "\n",
        "# Step Two:- Parameter Setting\n",
        "Set = set([-12, -3, -6, 7, 2, -2, 6, 3, 9, -7, -5, -8, 1, 11, -9, -4 ])\n",
        "SetSize = 5\n",
        "ResultList = set()\n",
        "Iterations = 1000\n",
        "\n",
        "# Step Three:- Start Program\n",
        "for i in range(Iterations):\n",
        "  elementSelection = r.sample(list(Set), SetSize)\n",
        "  if sum(elementSelection) == 0:\n",
        "    ResultList.add(tuple(elementSelection))\n",
        "\n",
        "for r in ResultList:\n",
        "  print(r)\n",
        "print(\"\\nTotal Sets :\", len(ResultList), \"\\n\")\n"
      ],
      "metadata": {
        "colab": {
          "base_uri": "https://localhost:8080/"
        },
        "id": "xoYoUg6pSub0",
        "outputId": "dc339aa8-2d94-4d0c-a119-77825046f62d"
      },
      "execution_count": 34,
      "outputs": [
        {
          "output_type": "stream",
          "name": "stdout",
          "text": [
            "(6, 2, -7, 11, -12)\n",
            "(-6, 6, -9, 2, 7)\n",
            "(-3, 7, -4, 9, -9)\n",
            "(1, -6, -4, 7, 2)\n",
            "(11, -4, -6, -3, 2)\n",
            "(-6, -12, 9, 6, 3)\n",
            "(6, -4, -6, -5, 9)\n",
            "(6, -4, -6, 1, 3)\n",
            "(-2, -3, 2, 7, -4)\n",
            "(6, -8, 1, -6, 7)\n",
            "(-12, -2, 11, 1, 2)\n",
            "(9, 7, -8, 1, -9)\n",
            "(-7, -5, 7, -6, 11)\n",
            "(-4, 11, -5, -9, 7)\n",
            "(-2, 11, -7, -8, 6)\n",
            "(-2, -7, 2, 1, 6)\n",
            "(-2, 7, -3, -8, 6)\n",
            "(1, -3, -7, 3, 6)\n",
            "(-5, -9, 11, 1, 2)\n",
            "(-9, 7, 3, -2, 1)\n",
            "(-8, 6, 3, -12, 11)\n",
            "(3, -8, 1, -5, 9)\n",
            "(2, 7, 1, -7, -3)\n",
            "(-7, 3, 2, -9, 11)\n",
            "(7, -4, -6, 11, -8)\n",
            "(-9, 11, -12, 7, 3)\n",
            "(3, -2, -12, 9, 2)\n",
            "(7, -12, 3, 9, -7)\n",
            "\n",
            "Total Sets : 28 \n",
            "\n"
          ]
        }
      ]
    },
    {
      "cell_type": "markdown",
      "source": [
        "6) COMPLETE PROGRAM WITH SORTING"
      ],
      "metadata": {
        "id": "Hlv5dtJdV9zc"
      }
    },
    {
      "cell_type": "code",
      "source": [
        "# Step One:- Library Inclusion\n",
        "import random as r\n",
        "\n",
        "# Step Two:- Parameter Setting\n",
        "Set = set([-12, -3, -6, 7, 2, -2, 6, 3, 9, -7, -5, -8, 1, 11, -9, -4 ])\n",
        "SetSize = 5\n",
        "ResultList = set()\n",
        "Iterations = 1000\n",
        "\n",
        "# Step Three:- Start Program\n",
        "for i in range(Iterations):\n",
        "  elementSelection = r.sample(list(Set), SetSize)\n",
        "  elementSelection.sort()\n",
        "\n",
        "  if sum(elementSelection) == 0:\n",
        "    ResultList.add(tuple(elementSelection))\n",
        "\n",
        "for r in ResultList:\n",
        "  print(r)\n",
        "print(\"\\nTotal Sets :\", len(ResultList), \"\\n\")"
      ],
      "metadata": {
        "colab": {
          "base_uri": "https://localhost:8080/"
        },
        "id": "mB7GbNoBWUw7",
        "outputId": "51505e99-7a42-430b-8bb1-a97b23cf7cad"
      },
      "execution_count": 35,
      "outputs": [
        {
          "output_type": "stream",
          "name": "stdout",
          "text": [
            "(-12, -3, 2, 6, 7)\n",
            "(-12, -6, -2, 9, 11)\n",
            "(-7, -4, -2, 6, 7)\n",
            "(-12, -6, 1, 6, 11)\n",
            "(-9, -8, 2, 6, 9)\n",
            "(-8, -7, -3, 7, 11)\n",
            "(-7, -3, 1, 3, 6)\n",
            "(-12, -2, 1, 6, 7)\n",
            "(-6, -4, -3, 6, 7)\n",
            "(-7, -4, 2, 3, 6)\n",
            "(-9, -3, 1, 2, 9)\n",
            "(-7, -5, -2, 3, 11)\n",
            "(-12, 1, 2, 3, 6)\n",
            "(-8, -3, 1, 3, 7)\n",
            "(-9, -8, 1, 7, 9)\n",
            "(-9, -6, -5, 9, 11)\n",
            "(-6, -4, -2, 3, 9)\n",
            "(-12, -8, 3, 6, 11)\n",
            "(-9, -5, -2, 7, 9)\n",
            "(-9, -5, 1, 6, 7)\n",
            "(-7, -6, -3, 7, 9)\n",
            "(-7, -3, -2, 1, 11)\n",
            "(-6, -3, -2, 2, 9)\n",
            "(-12, -4, 3, 6, 7)\n",
            "(-6, -4, -2, 1, 11)\n",
            "(-7, -6, -5, 7, 11)\n",
            "(-8, -7, 2, 6, 7)\n",
            "\n",
            "Total Sets : 27 \n",
            "\n"
          ]
        }
      ]
    },
    {
      "cell_type": "markdown",
      "source": [
        "## Follow Up Problem Statement:-"
      ],
      "metadata": {
        "id": "V4ri5wQYWvcm"
      }
    },
    {
      "cell_type": "markdown",
      "source": [
        "Find all the subsets from a set of numbers whose sum is zero."
      ],
      "metadata": {
        "id": "m8rSwXLLY9Dc"
      }
    },
    {
      "cell_type": "markdown",
      "source": [
        "**Constraint: Subset size must be 3 to 6 only**"
      ],
      "metadata": {
        "id": "A5mSMwfSZOMq"
      }
    },
    {
      "cell_type": "markdown",
      "source": [
        "Set = { -12, -3, -6, 7, 2, -2, 6, 3, 9, -7, -5, -8, 1, 11, -9, -4 }"
      ],
      "metadata": {
        "id": "YI0DCNt9ZdwQ"
      }
    },
    {
      "cell_type": "code",
      "source": [
        "# Step One:- Library Inclusion\n",
        "import random as r\n",
        "\n",
        "# Step Two:- Parameter Setting\n",
        "Set = set([-12, -3, -6, 7, 2, -2, 6, 3, 9, -7, -5, -8, 1, 11, -9, -4 ])\n",
        "LowerBound = 3\n",
        "UpperBound = 6\n",
        "ResultList = set()\n",
        "Iterations = 1000\n",
        "\n",
        "# Step Three:- Start Program\n",
        "for i in range(Iterations):\n",
        "  SetSize = r.randint(LowerBound,UpperBound)\n",
        "  elementSelection = r.sample(list(Set), SetSize)\n",
        "  elementSelection.sort()\n",
        "\n",
        "  if sum(elementSelection) == 0:\n",
        "    ResultList.add(tuple(elementSelection))\n",
        "\n",
        "for r in ResultList:\n",
        "  print(r)\n",
        "print(\"\\nTotal Sets :\", len(ResultList), \"\\n\")"
      ],
      "metadata": {
        "colab": {
          "base_uri": "https://localhost:8080/"
        },
        "id": "IzGxDXXKZkLB",
        "outputId": "40e80428-5d5a-42da-a492-5b7c301a10b5"
      },
      "execution_count": 24,
      "outputs": [
        {
          "output_type": "stream",
          "name": "stdout",
          "text": [
            "(-12, -6, 3, 6, 9)\n",
            "(-9, 2, 7)\n",
            "(-7, -5, 3, 9)\n",
            "(-8, -7, -3, 7, 11)\n",
            "(-5, -4, 1, 2, 6)\n",
            "(-8, -6, 3, 11)\n",
            "(-5, 2, 3)\n",
            "(-12, 3, 9)\n",
            "(-7, -6, -2, 6, 9)\n",
            "(-8, -2, 3, 7)\n",
            "(-4, 1, 3)\n",
            "(-12, 1, 11)\n",
            "(-12, -7, -4, 3, 9, 11)\n",
            "(-12, 2, 3, 7)\n",
            "(-4, -3, -2, 9)\n",
            "(-9, -3, 1, 2, 3, 6)\n",
            "(-7, -4, 11)\n",
            "(-9, -8, -5, 6, 7, 9)\n",
            "(-9, -2, 11)\n",
            "(-6, -3, 9)\n",
            "(-6, -4, -2, 2, 3, 7)\n",
            "(-9, -7, 3, 6, 7)\n",
            "(-5, -3, -2, 1, 9)\n",
            "(-12, -7, 3, 7, 9)\n",
            "(-9, -7, 1, 6, 9)\n",
            "(-8, -7, 6, 9)\n",
            "(-9, -6, 1, 3, 11)\n",
            "(-7, 1, 6)\n",
            "(-4, -3, 7)\n",
            "(-12, -6, -3, 1, 9, 11)\n",
            "(-5, -4, 9)\n",
            "\n",
            "Total Sets : 31 \n",
            "\n"
          ]
        }
      ]
    }
  ]
}